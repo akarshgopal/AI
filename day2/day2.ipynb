{
 "cells": [
  {
   "cell_type": "code",
   "execution_count": null,
   "metadata": {},
   "outputs": [],
   "source": []
  },
  {
   "cell_type": "markdown",
   "metadata": {},
   "source": [
    "For image classification we'll use the Fashion MNIST dataset as a nod to Try-it-on ;)\n",
    "Download from: https://www.kaggle.com/datasets/zalando-research/fashionmnist"
   ]
  }
 ],
 "metadata": {
  "language_info": {
   "name": "python"
  }
 },
 "nbformat": 4,
 "nbformat_minor": 2
}
