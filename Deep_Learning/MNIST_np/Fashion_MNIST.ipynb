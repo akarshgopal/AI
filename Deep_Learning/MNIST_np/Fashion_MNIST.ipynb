{
 "cells": [
  {
   "cell_type": "code",
   "execution_count": 10,
   "metadata": {},
   "outputs": [],
   "source": [
    "import numpy as np\n",
    "import struct\n",
    "import sys\n",
    "sys.path.insert(0, '../../Machine_Learning')\n",
    "from atlas_ml import *\n",
    "import matplotlib\n",
    "import matplotlib.pyplot as plt\n",
    "from IPython.display import clear_output"
   ]
  },
  {
   "cell_type": "code",
   "execution_count": 11,
   "metadata": {},
   "outputs": [],
   "source": [
    "def flatten_imgs(X):\n",
    "    n_img = np.shape(X)[0]\n",
    "    h = np.shape(X)[1]\n",
    "    w = np.shape(X)[2]\n",
    "    size_arr = h*w\n",
    "    return np.reshape(X,(n_img,size_arr))\n",
    "\n",
    "def read_idx(filename):\n",
    "    with open(filename, 'rb') as f:\n",
    "        zero, data_type, dims = struct.unpack('>HBB', f.read(4))\n",
    "        shape = tuple(struct.unpack('>I', f.read(4))[0] for d in range(dims))\n",
    "        return np.frombuffer(f.read(), dtype=np.uint8).reshape(shape)"
   ]
  },
  {
   "cell_type": "code",
   "execution_count": 12,
   "metadata": {},
   "outputs": [],
   "source": [
    "''' CHANGE PATH IN THE BELOW LINE ACCORDING TO YOUR DIRECTORY STRUCTURE'''\n",
    "X = read_idx('data/Fashion_MNIST/train/train-images-idx3-ubyte')\n",
    "X = flatten_imgs(X)\n",
    "X = normalize(X)               # Try without this\n",
    "X = np.transpose(X)\n",
    "\n",
    "''' CHANGE PATH IN THE BELOW LINE ACCORDING TO YOUR DIRECTORY STRUCTURE'''\n",
    "Y = read_idx('data/Fashion_MNIST/train/train-labels-idx1-ubyte')\n",
    "Y = np.expand_dims(Y, axis=1)\n",
    "Y = np.transpose(Y)\n",
    "Y = one_hot(Y,10)\n",
    "\n",
    "''' CHANGE PATH IN THE BELOW LINE ACCORDING TO YOUR DIRECTORY STRUCTURE'''\n",
    "X_test = read_idx('data/Fashion_MNIST/test/t10k-images-idx3-ubyte')\n",
    "X_test = flatten_imgs(X_test)\n",
    "X_test = normalize(X_test)     # Try without this\n",
    "X_test = np.transpose(X_test)\n",
    "\n",
    "''' CHANGE PATH IN THE BELOW LINE ACCORDING TO YOUR DIRECTORY STRUCTURE'''\n",
    "Y_test = read_idx('data/Fashion_MNIST/test/t10k-labels-idx1-ubyte')\n",
    "Y_test = np.expand_dims(Y_test, axis=1)\n",
    "Y_test = np.transpose(Y_test)\n",
    "Y_test = one_hot(Y_test,10)"
   ]
  },
  {
   "cell_type": "code",
   "execution_count": 15,
   "metadata": {},
   "outputs": [
    {
     "data": {
      "image/png": "[encoded data removed]",
      "text/plain": [
       "<Figure size 432x288 with 1 Axes>"
      ]
     },
     "metadata": {},
     "output_type": "display_data"
    },
    {
     "name": "stdout",
     "output_type": "stream",
     "text": [
      "[1. 0. 0. 0. 0. 0. 0. 0. 0. 0.]\n"
     ]
    }
   ],
   "source": [
    "i = 10\n",
    "plt.imshow(X[:,i].reshape(28,28), cmap = matplotlib.cm.binary)\n",
    "plt.axis(\"off\")\n",
    "plt.show()\n",
    "print(Y[:,i])"
   ]
  },
  {
   "cell_type": "code",
   "execution_count": 5,
   "metadata": {},
   "outputs": [],
   "source": [
    "class MNIST_net:\n",
    "    def __init__(self, X_size, Y_size, lossfn):\n",
    "        self.L1 = layer(X_size, 150, relu)\n",
    "        self.L2 = layer(150, 50, relu)        \n",
    "        self.L3 = layer(50, Y_size, softmax)\n",
    "        self.lossfn = lossfn()\n",
    "        \n",
    "    def f_pass(self, X):\n",
    "        A1 = self.L1.forward(X)\n",
    "        A2 = self.L2.forward(A1)\n",
    "        A3 = self.L3.forward(A2)\n",
    "        self.H = A3\n",
    "        return self.H\n",
    "    \n",
    "    def back_prop(self,X,Y, batch_size, reg_lamda):\n",
    "        m = batch_size\n",
    "        \n",
    "        self.loss = self.lossfn.get_loss(self.H,Y)\n",
    "        dL_dZ = self.lossfn.diff(self.H,Y)\n",
    "        \n",
    "        self.L3.out_grad(dL_dZ, self.L2.A, m, reg_lamda)\n",
    "        self.L2.grad(self.L3.dZ, self.L3.W, self.L1.A, m, reg_lamda)\n",
    "        self.L1.grad(self.L2.dZ, self.L2.W, X, m, reg_lamda)\n",
    "    \n",
    "    def optim(self, lr, beta):\n",
    "        self.L1.step(lr, beta)\n",
    "        self.L2.step(lr, beta)\n",
    "        self.L3.step(lr, beta)"
   ]
  },
  {
   "cell_type": "code",
   "execution_count": 6,
   "metadata": {},
   "outputs": [],
   "source": [
    "n_in = np.shape(X)[0]\n",
    "n_out = np.shape(Y)[0]\n",
    "\n",
    "#We create a fresh object of MNIST_net\n",
    "mnist_net = MNIST_net(n_in,n_out,CE_loss)"
   ]
  },
  {
   "cell_type": "code",
   "execution_count": 7,
   "metadata": {},
   "outputs": [],
   "source": [
    "#Hyperparameters feel free to tweak these!\n",
    "\n",
    "#batch_size\n",
    "#lies in [1,X.shape[1]], preferably powers of 2\n",
    "# 1 -> stochastic descent\n",
    "# X.shape[1] -> batch descent\n",
    "batch_size = 16\n",
    "\n",
    "#learning rate\n",
    "lr = 0.01\n",
    "\n",
    "n_epochs = 20\n",
    "\n",
    "#learning rate decay parameter, lies in [0,1]\n",
    "lr_decay = 1\n",
    "\n",
    "beta = 0.99\n",
    "\n",
    "reg_lambda = 0.1"
   ]
  },
  {
   "cell_type": "code",
   "execution_count": 8,
   "metadata": {},
   "outputs": [
    {
     "name": "stdout",
     "output_type": "stream",
     "text": [
      "epoch:20/20 | Loss:0.0625 |             Train Accuracy: 0.8193 | Test_Accuracy:0.8091\n"
     ]
    },
    {
     "data": {
      "image/png": "[encoded data removed]",
      "text/plain": [
       "<Figure size 432x288 with 1 Axes>"
      ]
     },
     "metadata": {},
     "output_type": "display_data"
    }
   ],
   "source": [
    "train(mnist_net, X, Y, X_test, Y_test, model_accuracy, n_epochs,batch_size, lr, lr_decay, beta, reg_lambda)"
   ]
  },
  {
   "cell_type": "code",
   "execution_count": null,
   "metadata": {},
   "outputs": [],
   "source": []
  }
 ],
 "metadata": {
  "kernelspec": {
   "display_name": "ai",
   "language": "python",
   "name": "ai"
  },
  "language_info": {
   "codemirror_mode": {
    "name": "ipython",
    "version": 3
   },
   "file_extension": ".py",
   "mimetype": "text/x-python",
   "name": "python",
   "nbconvert_exporter": "python",
   "pygments_lexer": "ipython3",
   "version": "3.6.5"
  }
 },
 "nbformat": 4,
 "nbformat_minor": 2
}
