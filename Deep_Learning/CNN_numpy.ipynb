{
 "cells": [
  {
   "cell_type": "code",
   "execution_count": null,
   "metadata": {},
   "outputs": [],
   "source": [
    "import numpy as np\n",
    "from ml_lib.atlas_ml import *\n",
    "import pandas as pd\n",
    "import matplotlib\n",
    "import matplotlib.pyplot as plt\n",
    "from IPython.display import clear_output\n",
    "import time"
   ]
  },
  {
   "cell_type": "code",
   "execution_count": null,
   "metadata": {},
   "outputs": [],
   "source": [
    "class MNIST_CNN:\n",
    "    def __init__(self, Y_size, lossfn, n_channels=1):\n",
    "        self.L1 = conv_layer([5,5], n_channels, leaky_relu, n_filters = 10,padding = [2,2])\n",
    "        self.L2 = conv_layer([3,3], 10, leaky_relu, n_filters = 15)\n",
    "        self.L3 = max_pool_layer([2,2],15, stride=[2,2])\n",
    "        self.L4 = conv_layer([3,3], 15, leaky_relu)        \n",
    "        self.L5 = layer(121,50, leaky_relu)\n",
    "        self.L6 = layer(50, Y_size, softmax)\n",
    "        self.lossfn = lossfn()\n",
    "        \n",
    "    def f_pass(self, X):\n",
    "        A = self.L1.forward(X)\n",
    "        A = self.L2.forward(A)\n",
    "        A = self.L3.forward(A)\n",
    "        A = self.L4.forward(A)\n",
    "        A.resize(A.shape[0], A.shape[2]*A.shape[3])\n",
    "        A = self.L5.forward(A)\n",
    "        A = self.L6.forward(A)\n",
    "        self.H = A\n",
    "        return self.H\n",
    "    \n",
    "    def back_prop(self,X,Y, batch_size,reg_lambda=0):\n",
    "        m = batch_size\n",
    "        self.loss = self.lossfn.get_loss(self.H,Y)\n",
    "        dZ = self.lossfn.diff(self.H,Y)\n",
    "        dA = self.L6.out_grad(dZ, self.L5.A, m)\n",
    "        dA = self.L5.grad(dA,self.L4.A, m)\n",
    "        dA = np.expand_dims(dA,axis=-1)\n",
    "        dA = self.L4.grad(dA)\n",
    "        dA = self.L3.grad(dA)\n",
    "        dA = self.L2.grad(dA)\n",
    "        dX = self.L1.grad(dA)\n",
    "    \n",
    "    def optim(self, lr, beta=0):\n",
    "        self.L1.step(lr,beta)\n",
    "        self.L2.step(lr,beta)\n",
    "        self.L3.step(lr,beta)\n",
    "        self.L4.step(lr,beta)\n",
    "        self.L5.step(lr,beta)\n",
    "        self.L6.step(lr,beta)"
   ]
  },
  {
   "cell_type": "code",
   "execution_count": null,
   "metadata": {},
   "outputs": [],
   "source": [
    "trainX_path = '../data/fashion_mnist/train-images-idx3-ubyte'\n",
    "trainY_path = '../data/fashion_mnist/train-labels-idx1-ubyte'\n",
    "testX_path  = '../data/fashion_mnist/t10k-images-idx3-ubyte'\n",
    "testY_path  = '../data/fashion_mnist/t10k-labels-idx1-ubyte'\n",
    "\n",
    "X,Y,X_test,Y_test = load_mnist_data(trainX_path,trainY_path,testX_path,testY_path)"
   ]
  },
  {
   "cell_type": "code",
   "execution_count": null,
   "metadata": {},
   "outputs": [],
   "source": [
    "n_out = np.shape(Y)[1]\n",
    "mnist_cnn = MNIST_CNN(n_out,CE_loss)"
   ]
  },
  {
   "cell_type": "code",
   "execution_count": null,
   "metadata": {},
   "outputs": [],
   "source": [
    "X.shape"
   ]
  },
  {
   "cell_type": "code",
   "execution_count": null,
   "metadata": {},
   "outputs": [],
   "source": [
    "batch_size = 16\n",
    "\n",
    "lr = 0.005\n",
    "\n",
    "n_epochs = 10\n",
    "\n",
    "lr_decay = 0.9\n",
    "\n",
    "data_size = X.shape[0]\n",
    "\n",
    "beta = 0"
   ]
  },
  {
   "cell_type": "code",
   "execution_count": null,
   "metadata": {
    "scrolled": true
   },
   "outputs": [],
   "source": [
    "train(mnist_cnn, X, Y, X_test, Y_test, model_accuracy, n_epochs, \\\n",
    "    batch_size, lr, lr_decay, beta)"
   ]
  },
  {
   "cell_type": "code",
   "execution_count": null,
   "metadata": {},
   "outputs": [],
   "source": [
    "# measure time taken\n",
    "start = time. time()\n",
    "mnist_cnn.f_pass(X[0:4])\n",
    "endf = time. time()\n",
    "mnist_cnn.back_prop(X[0:4],Y[0:4],4)\n",
    "endb = time. time()\n",
    "mnist_cnn.optim(lr,beta)\n",
    "endo = time. time()\n",
    "mnist_cnn.loss"
   ]
  },
  {
   "cell_type": "code",
   "execution_count": null,
   "metadata": {},
   "outputs": [],
   "source": [
    "print(f\"f-pass:{endf-start:.4f} | b-prop:{endb-endf:.4f} | optim: {endo-endb:.4f} | total: {endo-start:.4f}\")"
   ]
  },
  {
   "cell_type": "code",
   "execution_count": null,
   "metadata": {},
   "outputs": [],
   "source": [
    "import pickle\n",
    "\n",
    "# Does not work currently\n",
    "\n",
    "def save_model(model, filename):\n",
    "    with open(filename, 'wb') as output:  # Overwrites any existing file.\n",
    "        pickle.dump(model, output, pickle.HIGHEST_PROTOCOL)\n",
    "\n",
    "def load_model(filename):\n",
    "    model = None\n",
    "    with open(filename, 'r') as f:  # Overwrites any existing file.\n",
    "        model = pickle.load(f)   \n",
    "    return model"
   ]
  }
 ],
 "metadata": {
  "kernelspec": {
   "display_name": "ai",
   "language": "python",
   "name": "python3"
  },
  "language_info": {
   "codemirror_mode": {
    "name": "ipython",
    "version": 3
   },
   "file_extension": ".py",
   "mimetype": "text/x-python",
   "name": "python",
   "nbconvert_exporter": "python",
   "pygments_lexer": "ipython3",
   "version": "3.10.13"
  }
 },
 "nbformat": 4,
 "nbformat_minor": 2
}
