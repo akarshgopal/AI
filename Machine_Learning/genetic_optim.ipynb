{
 "cells": [
  {
   "cell_type": "code",
   "execution_count": 4,
   "metadata": {},
   "outputs": [],
   "source": [
    "import numpy as np\n",
    "import matplotlib.pyplot as plt\n",
    "import pandas as pd\n",
    "from IPython.display import clear_output, display, Math, Latex\n",
    "import atlas_ml\n",
    "import random, math"
   ]
  },
  {
   "cell_type": "code",
   "execution_count": 5,
   "metadata": {},
   "outputs": [],
   "source": [
    "def F(X):\n",
    "    fitness = -(X[0]-1)**2 - (X[0]-X[1])**2 - (X[0]-X[1]-X[2]-2)**2\n",
    "    return fitness"
   ]
  },
  {
   "cell_type": "code",
   "execution_count": 6,
   "metadata": {},
   "outputs": [],
   "source": [
    "GO = atlas_ml.genetic_optimizer(6,3,F)"
   ]
  },
  {
   "cell_type": "code",
   "execution_count": 7,
   "metadata": {},
   "outputs": [
    {
     "data": {
      "text/plain": [
       "array([False,  True, False, False,  True])"
      ]
     },
     "execution_count": 7,
     "metadata": {},
     "output_type": "execute_result"
    }
   ],
   "source": [
    "np.random.uniform(size=5) < 0.5 "
   ]
  },
  {
   "cell_type": "code",
   "execution_count": 8,
   "metadata": {
    "scrolled": true
   },
   "outputs": [
    {
     "name": "stdout",
     "output_type": "stream",
     "text": [
      "-1.2196826949512019\n",
      "[ 0.00969371  2.81569484  1.23935342 -1.89272283  3.66495225 -3.96604688]\n",
      "-0.0001965150871769649\n",
      "[0.99535099 0.99535099 0.99535099 0.99535099 0.99535099 0.99535099]\n",
      "-0.00018110920171791916\n",
      "[0.99347299 0.99347299 0.99347299 0.55067745 0.99347299 0.99347299]\n",
      "-2.340207576620965e-05\n",
      "[ 0.99646487  0.99646487  0.99646487  0.99646487  0.45304194 -0.00312177]\n",
      "-1.6847328112280997e-05\n",
      "[0.99646487 0.99646487 0.99646487 0.99646487 0.99646487 0.18226155]\n",
      "-1.328595890946747e-05\n",
      "[0.99646487 0.99646487 0.99646487 1.0529786  0.99646487 0.99646487]\n",
      "-1.328595890946747e-05\n",
      "[0.99646487 0.99646487 0.99646487 0.99646487 0.99646487 0.99646487]\n",
      "-1.2855118868779686e-05\n",
      "[0.99646487 0.99646487 0.28368416 0.3511768  0.3511768  0.13413457]\n",
      "-1.2855118868779686e-05\n",
      "[0.99646487 0.99646487 0.99215845 0.99646487 1.05257353 1.90552921]\n",
      "-1.2855118868779686e-05\n",
      "[0.99646487 0.99646487 0.99646487 0.99646487 0.99646487 0.99646487]\n"
     ]
    },
    {
     "data": {
      "text/plain": [
       "(-1.0270341697347471e-05, array([ 0.99832972,  0.99686494, -2.00084496]))"
      ]
     },
     "execution_count": 8,
     "metadata": {},
     "output_type": "execute_result"
    }
   ],
   "source": [
    "GO.optimize()"
   ]
  },
  {
   "cell_type": "code",
   "execution_count": null,
   "metadata": {},
   "outputs": [],
   "source": []
  }
 ],
 "metadata": {
  "kernelspec": {
   "display_name": "ai-bootcamp-env",
   "language": "python",
   "name": "python3"
  },
  "language_info": {
   "codemirror_mode": {
    "name": "ipython",
    "version": 3
   },
   "file_extension": ".py",
   "mimetype": "text/x-python",
   "name": "python",
   "nbconvert_exporter": "python",
   "pygments_lexer": "ipython3",
   "version": "3.10.13"
  }
 },
 "nbformat": 4,
 "nbformat_minor": 2
}
