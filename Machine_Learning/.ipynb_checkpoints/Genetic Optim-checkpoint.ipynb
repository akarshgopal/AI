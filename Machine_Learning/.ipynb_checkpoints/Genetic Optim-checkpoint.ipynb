{
 "cells": [
  {
   "cell_type": "code",
   "execution_count": 1,
   "metadata": {},
   "outputs": [],
   "source": [
    "import numpy as np\n",
    "import matplotlib.pyplot as plt\n",
    "import pandas as pd\n",
    "from IPython.display import clear_output, display, Math, Latex\n",
    "from atlas_ml import *\n",
    "import random, math"
   ]
  },
  {
   "cell_type": "code",
   "execution_count": 4,
   "metadata": {},
   "outputs": [],
   "source": [
    "def F(X):\n",
    "    fitness = -(X[0]-1)**2 - (X[0]-X[1])**2 - (X[0]-X[1]-X[2]-2)**2\n",
    "    return fitness"
   ]
  },
  {
   "cell_type": "code",
   "execution_count": 5,
   "metadata": {},
   "outputs": [],
   "source": [
    "GO = genetic_optimizer(6,3,F)"
   ]
  },
  {
   "cell_type": "code",
   "execution_count": 6,
   "metadata": {},
   "outputs": [
    {
     "data": {
      "text/plain": [
       "array([False,  True, False,  True, False])"
      ]
     },
     "execution_count": 6,
     "metadata": {},
     "output_type": "execute_result"
    }
   ],
   "source": [
    "np.random.uniform(size=5) < 0.5 "
   ]
  },
  {
   "cell_type": "code",
   "execution_count": 13,
   "metadata": {
    "scrolled": true
   },
   "outputs": [
    {
     "name": "stdout",
     "output_type": "stream",
     "text": [
      "-5.844837961006094e-08\n",
      "[1.00022505 1.00022505 1.00022505 1.00022505 1.76147406 1.00022505]\n",
      "-5.844837961006094e-08\n",
      "[1.00022505 1.00022505 1.00022505 1.00022505 1.00022505 1.00022505]\n",
      "-5.844837961006094e-08\n",
      "[1.00022505 1.00022505 1.00022505 1.00022505 1.00022505 1.00022505]\n",
      "-5.844837961006094e-08\n",
      "[1.00022505 1.00022505 1.00022505 1.00022505 1.00022505 0.35751935]\n",
      "-5.844837961006094e-08\n",
      "[1.00022505 1.00022505 1.00022505 1.00022505 1.00022505 1.00022505]\n",
      "-5.844837961006094e-08\n",
      "[1.00022505 1.00022505 1.00022505 1.00022505 1.00022505 0.78249396]\n",
      "-5.844837961006094e-08\n",
      "[1.00022505 1.00022505 1.00022505 1.00022505 1.00022505 1.00022505]\n",
      "-5.844837961006094e-08\n",
      "[1.00022505 1.00022505 1.00022505 1.1223639  1.1223639  1.1223639 ]\n",
      "-5.844837961006094e-08\n",
      "[1.00022505 1.00022505 1.00022505 1.00022505 1.00022505 1.00022505]\n",
      "-5.844837961006094e-08\n",
      "[1.00022505 1.00022505 1.00022505 1.00022505 1.45493361 1.90108477]\n"
     ]
    },
    {
     "data": {
      "text/plain": [
       "(-5.844837961006094e-08, array([ 1.00022505,  1.00026484, -1.99996093]))"
      ]
     },
     "execution_count": 13,
     "metadata": {},
     "output_type": "execute_result"
    }
   ],
   "source": [
    "GO.optimize()"
   ]
  },
  {
   "cell_type": "code",
   "execution_count": null,
   "metadata": {},
   "outputs": [],
   "source": []
  }
 ],
 "metadata": {
  "kernelspec": {
   "display_name": "onlinepub",
   "language": "python",
   "name": "testenv"
  },
  "language_info": {
   "codemirror_mode": {
    "name": "ipython",
    "version": 3
   },
   "file_extension": ".py",
   "mimetype": "text/x-python",
   "name": "python",
   "nbconvert_exporter": "python",
   "pygments_lexer": "ipython3",
   "version": "3.6.7"
  }
 },
 "nbformat": 4,
 "nbformat_minor": 2
}
